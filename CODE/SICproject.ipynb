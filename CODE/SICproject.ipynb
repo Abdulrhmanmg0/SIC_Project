{
  "nbformat": 4,
  "nbformat_minor": 0,
  "metadata": {
    "colab": {
      "provenance": []
    },
    "kernelspec": {
      "name": "python3",
      "display_name": "Python 3"
    },
    "language_info": {
      "name": "python"
    }
  },
  "cells": [
    {
      "cell_type": "code",
      "execution_count": null,
      "metadata": {
        "id": "AivTej4i43Pa"
      },
      "outputs": [],
      "source": [
        "# Libraries\n",
        "\n",
        "import keras\n",
        "import splitfolders\n",
        "from keras.preprocessing.image import ImageDataGenerator"
      ]
    },
    {
      "cell_type": "code",
      "source": [
        "# splits the data into train val test\n",
        "\n",
        "splitfolders.ratio('Data/',\n",
        "                   output='Split_Data',\n",
        "                   ratio=(0.7, 0.15, 0.15),\n",
        "                   seed=42,\n",
        "                   )"
      ],
      "metadata": {
        "id": "hIy3XgHO5Nuh"
      },
      "execution_count": null,
      "outputs": []
    },
    {
      "cell_type": "code",
      "source": [
        "# normalize and resize the data\n",
        "\n",
        "train_datagen = ImageDataGenerator(\n",
        "        rescale=1./255,\n",
        "        featurewise_center=True,\n",
        "        featurewise_std_normalization=True\n",
        "        )\n",
        "\n",
        "test_datagen = ImageDataGenerator(rescale=1./255,\n",
        "                                  featurewise_center=True,\n",
        "                                  featurewise_std_normalization=True)\n",
        "\n",
        "train_generator = train_datagen.flow_from_directory(\n",
        "        'Split_Data/train',\n",
        "        target_size=(500, 500),\n",
        "        batch_size=32,\n",
        "        class_mode='binary')\n",
        "\n",
        "validation_generator = test_datagen.flow_from_directory(\n",
        "        'Split_Data/val',\n",
        "        target_size=(500, 500),\n",
        "        batch_size=32,\n",
        "        class_mode='binary')"
      ],
      "metadata": {
        "id": "NBLbS62n5QE9"
      },
      "execution_count": null,
      "outputs": []
    },
    {
      "cell_type": "code",
      "source": [
        "# build the model CNN\n",
        "\n",
        "model = keras.models.Sequential(\n",
        "\n",
        ")"
      ],
      "metadata": {
        "id": "hKunBkp95Vg6"
      },
      "execution_count": null,
      "outputs": []
    }
  ]
}